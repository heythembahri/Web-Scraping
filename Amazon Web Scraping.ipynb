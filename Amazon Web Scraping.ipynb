{
 "cells": [
  {
   "cell_type": "code",
   "execution_count": 161,
   "id": "5e27f8ab-0011-4899-a8c5-cd9156f2e83d",
   "metadata": {},
   "outputs": [],
   "source": [
    "from bs4 import BeautifulSoup\n",
    "import datetime\n",
    "import time\n",
    "import requests\n",
    "import smtplib"
   ]
  },
  {
   "cell_type": "code",
   "execution_count": 177,
   "id": "d6006db9-bc53-4bd1-928d-a6380dcce04a",
   "metadata": {},
   "outputs": [
    {
     "name": "stdout",
     "output_type": "stream",
     "text": [
      "        Got Data? Data Analyst Programmer Accountant Distressed T-Shirt       \n",
      "$17.99\n"
     ]
    }
   ],
   "source": [
    "#connect to website\n",
    "URL = 'https://www.amazon.com/Data-Analyst-Programmer-Accountant-Distressed/dp/B0C1TH5NPM/ref=sr_1_3?crid=134B1MYK1MS3S&dib=eyJ2IjoiMSJ9.Hd9jKJB2KDKcbar7gB_0ETH5_YL9dgSTXCBY4rLAcyK0yG6t38Esq7rQtiY3g5AV-C7RzFvBk3HlSrm4s6yUKzl24DF9Id8OXrCrEEtTLl7g0glqNLgpS_9GKrD8EJvbQO5AXnxI_PhPna3sumcKgxc7ftC7ZcCWgenVkr1Fyvy3wcxq2hSQ2GGK1OUnZuF-qrBcUjYM6tHa19YOBhmpoNCC5A1Ux3ihJjmGeSYwhb-68jlscUQ58lThclpeNcbc6eudcNeVsBQt5kxDkDirb_9RjVk9eSw8UOUh0m0AmPk.FqaCVFTcbo_dXJmJ8w3IummTDCmacsKmc8-N2Vz6Lnk&dib_tag=se&keywords=data+analyst+tshirt&qid=1728482369&sr=8-3'\n",
    "\n",
    "\n",
    "headers = {\"User-Agent\": \"Mozilla/5.0 (Windows NT 10.0; Win64; x64) AppleWebKit/537.36 (KHTML, like Gecko) Chrome/78.0.3904.108 Safari/537.36\", \"Accept-Encoding\":\"gzip, deflate\", \"Accept\":\"text/html,application/xhtml+xml,application/xml;q=0.9,*/*;q=0.8\", \"DNT\":\"1\",\"Connection\":\"close\", \"Upgrade-Insecure-Requests\":\"1\"}\n",
    "\n",
    "page = requests.get(URL, headers=headers)\n",
    "\n",
    "soup1 = BeautifulSoup(page.content, \"html.parser\")\n",
    "\n",
    "soup2 = BeautifulSoup(soup1.prettify(), \"html.parser\")\n",
    "\n",
    "title = soup1.find(id='productTitle').get_text()\n",
    "price = soup1.find('span', class_='a-offscreen').get_text()\n",
    "\n",
    "print (title)\n",
    "print (price)\n",
    "\n",
    "\n"
   ]
  },
  {
   "cell_type": "code",
   "execution_count": 209,
   "id": "f0925e6e-0220-42a5-8464-71d92ea50222",
   "metadata": {},
   "outputs": [
    {
     "name": "stdout",
     "output_type": "stream",
     "text": [
      "Got Data? Data Analyst Programmer Accountant Distressed T-Shirt\n",
      "17.99\n"
     ]
    }
   ],
   "source": [
    "price = price.strip()[1:]\n",
    "title = title.strip()\n",
    "\n",
    "print(title)\n",
    "print(price)"
   ]
  },
  {
   "cell_type": "markdown",
   "id": "a31ade64-c77d-45a3-82c9-2d3983a681d0",
   "metadata": {},
   "source": []
  },
  {
   "cell_type": "code",
   "execution_count": 226,
   "id": "3b8f09f2-21b1-4ac0-bb54-47609a02565a",
   "metadata": {},
   "outputs": [],
   "source": [
    "import csv \n",
    "import datetime\n",
    "\n",
    "data = {\n",
    "    'Title': [title],  \n",
    "    'Price': [price],  \n",
    "    'Date': [datetime.datetime.today().strftime(\"%Y-%m-%d\")]\n",
    "}\n",
    "\n",
    "\n",
    "with open('AmazonWebScraperDataset.csv', 'w', newline='', encoding='UTF8') as f:\n",
    "    writer = csv.writer(f)\n",
    "    writer.writerow(data)\n"
   ]
  },
  {
   "cell_type": "code",
   "execution_count": 228,
   "id": "73b711d1-c92f-402d-ae16-a6907034da3d",
   "metadata": {},
   "outputs": [
    {
     "name": "stdout",
     "output_type": "stream",
     "text": [
      "                                    Title;Price;Date\n",
      "0          Got Data? Data Analyst Programmer Acco...\n"
     ]
    }
   ],
   "source": [
    "import pandas as pd\n",
    "\n",
    "df = pd.read_csv(\"C:\\\\Users\\\\detec\\\\Web Scraping\\\\AmazonScrapDataset.csv\")\n",
    "\n",
    "print(df)"
   ]
  },
  {
   "cell_type": "code",
   "execution_count": 271,
   "id": "4e90b7d9-119b-4d9f-97c4-642abcc0f8f3",
   "metadata": {},
   "outputs": [],
   "source": [
    "def check_price():\n",
    "    URL = 'https://www.amazon.com/Data-Analyst-Programmer-Accountant-Distressed/dp/B0C1TH5NPM/ref=sr_1_3?crid=134B1MYK1MS3S&dib=eyJ2IjoiMSJ9.Hd9jKJB2KDKcbar7gB_0ETH5_YL9dgSTXCBY4rLAcyK0yG6t38Esq7rQtiY3g5AV-C7RzFvBk3HlSrm4s6yUKzl24DF9Id8OXrCrEEtTLl7g0glqNLgpS_9GKrD8EJvbQO5AXnxI_PhPna3sumcKgxc7ftC7ZcCWgenVkr1Fyvy3wcxq2hSQ2GGK1OUnZuF-qrBcUjYM6tHa19YOBhmpoNCC5A1Ux3ihJjmGeSYwhb-68jlscUQ58lThclpeNcbc6eudcNeVsBQt5kxDkDirb_9RjVk9eSw8UOUh0m0AmPk.FqaCVFTcbo_dXJmJ8w3IummTDCmacsKmc8-N2Vz6Lnk&dib_tag=se&keywords=data+analyst+tshirt&qid=1728482369&sr=8-3'\n",
    "\n",
    "\n",
    "    headers = {\"User-Agent\": \"Mozilla/5.0 (Windows NT 10.0; Win64; x64) AppleWebKit/537.36 (KHTML, like Gecko) Chrome/78.0.3904.108 Safari/537.36\", \"Accept-Encoding\":\"gzip, deflate\", \"Accept\":\"text/html,application/xhtml+xml,application/xml;q=0.9,*/*;q=0.8\", \"DNT\":\"1\",\"Connection\":\"close\", \"Upgrade-Insecure-Requests\":\"1\"}\n",
    "\n",
    "    page = requests.get(URL, headers=headers)\n",
    "\n",
    "    soup1 = BeautifulSoup(page.content, \"html.parser\")\n",
    "\n",
    "    soup2 = BeautifulSoup(soup1.prettify(), \"html.parser\")\n",
    "\n",
    "    title = soup1.find(id='productTitle').get_text()\n",
    "    price = soup1.find('span', class_='a-offscreen').get_text()\n",
    "\n",
    "    print (title)\n",
    "    print (price)\n",
    "\n",
    "\n",
    "\n",
    "    import datetime\n",
    "    today = datetime.date.today()\n",
    "\n",
    "    data = {\n",
    "    'Title': [title],  \n",
    "    'Price': [price],  \n",
    "    'Date': [datetime.datetime.today().strftime(\"%Y-%m-%d\")]\n",
    "}\n",
    "\n",
    "\n",
    "with open('AmazonWebScraperDataset.csv', 'w', newline='', encoding='UTF8') as f:\n",
    "    writer = csv.writer(f)\n",
    "    writer.writerow(data)\n",
    "\n",
    "    "
   ]
  },
  {
   "cell_type": "code",
   "execution_count": 266,
   "id": "b2a029ec-f97e-4d75-804e-65371f3f0168",
   "metadata": {},
   "outputs": [
    {
     "ename": "AttributeError",
     "evalue": "'NoneType' object has no attribute 'get_text'",
     "output_type": "error",
     "traceback": [
      "\u001b[1;31m---------------------------------------------------------------------------\u001b[0m",
      "\u001b[1;31mAttributeError\u001b[0m                            Traceback (most recent call last)",
      "Cell \u001b[1;32mIn[266], line 2\u001b[0m\n\u001b[0;32m      1\u001b[0m \u001b[38;5;28;01mwhile\u001b[39;00m(\u001b[38;5;28;01mTrue\u001b[39;00m):\n\u001b[1;32m----> 2\u001b[0m     check_price()\n\u001b[0;32m      3\u001b[0m     time\u001b[38;5;241m.\u001b[39msleep(\u001b[38;5;241m5\u001b[39m)\n",
      "Cell \u001b[1;32mIn[264], line 13\u001b[0m, in \u001b[0;36mcheck_price\u001b[1;34m()\u001b[0m\n\u001b[0;32m      9\u001b[0m soup1 \u001b[38;5;241m=\u001b[39m BeautifulSoup(page\u001b[38;5;241m.\u001b[39mcontent, \u001b[38;5;124m\"\u001b[39m\u001b[38;5;124mhtml.parser\u001b[39m\u001b[38;5;124m\"\u001b[39m)\n\u001b[0;32m     11\u001b[0m soup2 \u001b[38;5;241m=\u001b[39m BeautifulSoup(soup1\u001b[38;5;241m.\u001b[39mprettify(), \u001b[38;5;124m\"\u001b[39m\u001b[38;5;124mhtml.parser\u001b[39m\u001b[38;5;124m\"\u001b[39m)\n\u001b[1;32m---> 13\u001b[0m title \u001b[38;5;241m=\u001b[39m soup1\u001b[38;5;241m.\u001b[39mfind(\u001b[38;5;28mid\u001b[39m\u001b[38;5;241m=\u001b[39m\u001b[38;5;124m'\u001b[39m\u001b[38;5;124mproductTitle\u001b[39m\u001b[38;5;124m'\u001b[39m)\u001b[38;5;241m.\u001b[39mget_text\n\u001b[0;32m     14\u001b[0m price \u001b[38;5;241m=\u001b[39m soup1\u001b[38;5;241m.\u001b[39mfind(\u001b[38;5;124m'\u001b[39m\u001b[38;5;124mspan\u001b[39m\u001b[38;5;124m'\u001b[39m, class_\u001b[38;5;241m=\u001b[39m\u001b[38;5;124m'\u001b[39m\u001b[38;5;124ma-offscreen\u001b[39m\u001b[38;5;124m'\u001b[39m)\u001b[38;5;241m.\u001b[39mget_text\n\u001b[0;32m     16\u001b[0m \u001b[38;5;28mprint\u001b[39m (title)\n",
      "\u001b[1;31mAttributeError\u001b[0m: 'NoneType' object has no attribute 'get_text'"
     ]
    }
   ],
   "source": [
    "while(True):\n",
    "    check_price()\n",
    "    time.sleep(5)"
   ]
  },
  {
   "cell_type": "code",
   "execution_count": 268,
   "id": "156b4aa2-86d9-4e17-963f-9b372c092af8",
   "metadata": {},
   "outputs": [
    {
     "name": "stdout",
     "output_type": "stream",
     "text": [
      "                                    Title;Price;Date\n",
      "0          Got Data? Data Analyst Programmer Acco...\n"
     ]
    }
   ],
   "source": [
    "import pandas as pd\n",
    "\n",
    "df = pd.read_csv(\"C:\\\\Users\\\\detec\\\\Web Scraping\\\\AmazonScrapDataset.csv\")\n",
    "\n",
    "print(df)"
   ]
  },
  {
   "cell_type": "code",
   "execution_count": null,
   "id": "31fd678c-87ba-4515-9f41-b335a3d1c241",
   "metadata": {},
   "outputs": [],
   "source": []
  },
  {
   "cell_type": "code",
   "execution_count": null,
   "id": "a0728120-8cbc-4b02-884a-ad742ea6ddda",
   "metadata": {},
   "outputs": [],
   "source": []
  },
  {
   "cell_type": "code",
   "execution_count": null,
   "id": "b8eaa875-96ba-4930-992f-bd332f1a2e3e",
   "metadata": {},
   "outputs": [],
   "source": []
  }
 ],
 "metadata": {
  "kernelspec": {
   "display_name": "Python 3 (ipykernel)",
   "language": "python",
   "name": "python3"
  },
  "language_info": {
   "codemirror_mode": {
    "name": "ipython",
    "version": 3
   },
   "file_extension": ".py",
   "mimetype": "text/x-python",
   "name": "python",
   "nbconvert_exporter": "python",
   "pygments_lexer": "ipython3",
   "version": "3.12.4"
  }
 },
 "nbformat": 4,
 "nbformat_minor": 5
}
